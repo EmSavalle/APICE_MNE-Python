{
 "cells": [
  {
   "cell_type": "markdown",
   "metadata": {},
   "source": [
    "Fonction RunAll\n",
    "- Récupère les fichiers EEG\n",
    "- Applique les fonctions de détection et suppression d'artefacts\n",
    "- Sauvergarde les données\n",
    "\n",
    "- Inputs : nom des fichiers , chemin vers fichiers, chemin vers lieu de sauvegarde\n",
    "- Inputs + : prefixe fichier, analyse de tout ou des nouveaux fichiers, format de sortie,\n",
    "    fonctions a appliquer, input des fonctions"
   ]
  },
  {
   "cell_type": "markdown",
   "metadata": {},
   "source": [
    "Déroulement RunALl :\n",
    "\n",
    "Prend en compte les paramêtres optionnels\n",
    "\n",
    "Récupère les fonctions a analyser\n",
    "\n",
    "Demande le type d'analyse :\n",
    "    Appliquer sur tous les fichiers et supprimer les anciens travaux\n",
    "    Appliquer uniquement sur les nouveaux fichiers (sans analyses précedentes\n",
    "    Demander pour chaque fichier trouvé\n",
    "    \n",
    "Fais une liste des fichier EEG trouvé\n",
    "  \n",
    "Créer un dossier de sauvergarde si absent\n",
    "\n",
    "Pour chaque fichier \n",
    "    - Récupère le nom et l'extension du fichier et produit le nom du fichier de sortie\n",
    "    - Vérifie si l'analyse n'a pas déjà été produite pour ce fichier et verifie la marche a suivre\n",
    "    - Charge les données en vérifiant si .set ou .mat\n",
    "        - import les données avec eega_importdata/pop_readegi/pop_readegimff et les paramêtres saisi\n",
    "    - Parcours les fonctions spécifié en paramêtres\n",
    "        - Applique toutes ses fonctions \n",
    "    - Récupère le temps de calcul\n",
    "    - Sauvegarde les fichiers\n"
   ]
  },
  {
   "cell_type": "markdown",
   "metadata": {},
   "source": [
    "## Gestion fichiers : \n"
   ]
  },
  {
   "cell_type": "markdown",
   "metadata": {},
   "source": [
    "### artifacts\n",
    "\n",
    "#### correct\n",
    "- computeg : calcule G requis pour interpolation du spline spherique\n",
    "- eega_InterpSphericSpline : Fait une interpolation du spline sphéroque\n",
    "- eega_splicesgmentsX  (X = [1,2,3,4]) : effectue un découpage des données pour supprimer ou deplacer des mauvaises données\n",
    "- eega_tInterpSpatial : Interpolation des données marquées comme bad\n",
    "- eega_tInterpSpatialEEG : Interpolation de chaque Epoch marqué comme bad de la structure EEG\n",
    "- eega_tInterpSpatialSegment : Interpolation des bad segments de chaque channel s'il y a assez de bonne channel pour\n",
    "- eega_tInterpSpatialSegmentEEG : Meme que eega_tInterpSpatialSegment pour les données et structures EEG\n",
    "- eega_tTargetPCAxEL : Utilise les objectifs PCA pour corriger les artéfacts bref\n",
    "- eega_tTargetPCAxElEEG : applique eega_tTargetPCAxEL sur la structure EEG\n"
   ]
  }
 ],
 "metadata": {
  "kernelspec": {
   "display_name": "Python 3",
   "language": "python",
   "name": "python3"
  },
  "language_info": {
   "codemirror_mode": {
    "name": "ipython",
    "version": 3
   },
   "file_extension": ".py",
   "mimetype": "text/x-python",
   "name": "python",
   "nbconvert_exporter": "python",
   "pygments_lexer": "ipython3",
   "version": "3.7.6"
  }
 },
 "nbformat": 4,
 "nbformat_minor": 4
}
