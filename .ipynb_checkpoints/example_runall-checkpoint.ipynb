{
 "cells": [
  {
   "cell_type": "code",
   "execution_count": 1,
   "metadata": {
    "scrolled": true
   },
   "outputs": [
    {
     "name": "stdout",
     "output_type": "stream",
     "text": [
      "warning: addpath: C:/Users/emile/Documents/Projet CNN APICE/Matlab/eeglab2021.1/functions/plugins/firfilt: No such file or directory\n",
      "warning: called from\n",
      "    _pyeval at line 57 column 30\n",
      "\n",
      "warning: addpath: C:/Users/emile/Documents/Projet CNN APICE/Matlab/eeglab2021.1/functions/plugins/firfilt: No such file or directory\n",
      "warning: called from\n",
      "    _pyeval at line 57 column 30\n",
      "\n",
      "detect.py\n",
      "eega_tArtifacts.py\n",
      "eega_tRejCorrCh.py\n",
      "eega_tRejPwr.py\n",
      "eega_ZscoreForArt.py\n",
      "eeg_checkart.py\n",
      "eega_getoptions.py\n",
      "eega_RunAll.py\n",
      "eega_str2func.py\n",
      "matlab_functions.py\n",
      "Parameters.py\n",
      "eega_latencyevent.py\n",
      "eega_importdata.py\n",
      "eega_importinfoevents.py\n",
      "eega_removeevent.py\n",
      "eega_demean.py\n",
      "eega_epoch.py\n",
      "eega_refavg.py\n",
      "eega_rmvbaddata.py\n",
      "example_APICE_ArtPP_BadEl.py\n",
      "example_APICE_ArtPP_Jump.py\n",
      "example_APICE_ArtPP_Mot1.py\n",
      "example_APICE_ArtPP_Mot2.py\n",
      "example_APICE_Interpolation.py\n"
     ]
    }
   ],
   "source": [
    "import mne\n",
    "import mne_bids\n",
    "from mne import io\n",
    "import numpy as np\n",
    "import glob, os, sys\n",
    "import time\n",
    "\n",
    "from oct2py import octave\n",
    "pathEEGLABf = \"C:/Users/emile/Documents/Projet CNN APICE/Matlab/eeglab2021.1/functions\"\n",
    "pathEEGLABp = \"C:/Users/emile/Documents/Projet CNN APICE/Matlab/eeglab2021.1/functions\"\n",
    "octave.addpath(pathEEGLABf+'/guifunc')\n",
    "octave.addpath(pathEEGLABf+'/popfunc')\n",
    "octave.addpath(pathEEGLABf+'/adminfunc')\n",
    "octave.addpath(pathEEGLABf+'/sigprocfunc')\n",
    "octave.addpath(pathEEGLABf+'/miscfunc')\n",
    "octave.addpath(pathEEGLABp+'/firfilt')\n",
    "\n",
    "sys.path.append(\"scripts\")\n",
    "from importPy import *"
   ]
  },
  {
   "cell_type": "code",
   "execution_count": 2,
   "metadata": {},
   "outputs": [
    {
     "name": "stdout",
     "output_type": "stream",
     "text": [
      "warning: addpath: C:/Users/emile/Documents/Projet CNN APICE/Matlab/eeglab2021.1/functions/plugins/firfilt: No such file or directory\n",
      "warning: called from\n",
      "    _pyeval at line 57 column 30\n",
      "\n",
      "detect.py\n",
      "eega_tArtifacts.py\n",
      "eega_tRejCorrCh.py\n",
      "eega_tRejPwr.py\n",
      "eega_ZscoreForArt.py\n",
      "eeg_checkart.py\n",
      "eega_getoptions.py\n",
      "eega_RunAll.py\n",
      "eega_str2func.py\n",
      "matlab_functions.py\n",
      "Parameters.py\n",
      "eega_latencyevent.py\n",
      "eega_importdata.py\n",
      "eega_importinfoevents.py\n",
      "eega_removeevent.py\n",
      "eega_demean.py\n",
      "eega_epoch.py\n",
      "eega_refavg.py\n",
      "eega_rmvbaddata.py\n",
      "example_APICE_ArtPP_BadEl.py\n",
      "example_APICE_ArtPP_Jump.py\n",
      "example_APICE_ArtPP_Mot1.py\n",
      "example_APICE_ArtPP_Mot2.py\n",
      "example_APICE_Interpolation.py\n"
     ]
    }
   ],
   "source": [
    "import importlib\n",
    "import importPy\n",
    "importlib.reload(importPy)\n",
    "from importPy import *"
   ]
  },
  {
   "cell_type": "code",
   "execution_count": 3,
   "metadata": {
    "scrolled": true
   },
   "outputs": [],
   "source": [
    "Perp = ParametersERP\n",
    "\n",
    "#Filt\n",
    "Perp.filt_highpass = 0.2\n",
    "Perp.filt_lowpass = 20\n",
    "\n",
    "#Epoch\n",
    "Perp.Epoch.tw = [-1.6,2.2]\n",
    "Perp.Epoch.ev = {'Iout'}\n",
    "\n",
    "#Artifacts interpolation\n",
    "Perp.Int = example_APICE_Interpolation\n",
    "\n",
    "#BadTime and Bad Channels\n",
    "Perp.BCall.nbt = [0.70,0.50,0.30,0.30]\n",
    "Perp.BCep.nbt = [0.70,0.50,0.30,0.10/diff(Perp.Epoch.tw)]\n",
    "Perp.BTep.nbc = [0.70,0.50,0.30,0.30]\n",
    "Perp.BTep.minGoodTime = 1.0\n",
    "Perp.BTep.minBadTime = 0.1\n",
    "Perp.BTep.maskTime = 0\n",
    "\n",
    "#Array\n",
    "inputsDefBTBC = [Perp.BTep.nbc, Perp.BCep.nbt, Perp.BCall.nbt, 'keeppre', 0,\n",
    "    'minBadTime', Perp.BTep.minBadTime, 'minGoodTime', Perp.BTep.minGoodTime, 'maskTime', Perp.BTep.maskTime]\n",
    "\n",
    "#BE\n",
    "Perp.DefBEa.limBCTa = 1.0\n",
    "Perp.DefBEa.limBTa = 0\n",
    "Perp.DefBEa.limBCa = 0.3\n",
    "Perp.DefBEa.limCCTa = 0.5\n",
    "\n",
    "#Experimental factors and averaging\n",
    "Perp.factors = ['eventCong','eventProb']\n",
    "Perp.avgcnd = ['eventCong','eventProb']\n",
    "\n",
    "#Baseline\n",
    "Perp.BL.tw=[-100,100]\n",
    "\n",
    "#Report\n",
    "Perp.report.patternname = 'data'\n",
    "Perp.report.patternn = []"
   ]
  },
  {
   "cell_type": "code",
   "execution_count": 4,
   "metadata": {},
   "outputs": [],
   "source": [
    "data_loc = \"C:/Users/emile/Documents/Projet CNN APICE/Matlab/eeg_preprocessing-main/examples/DATA/set/\"\n",
    "data_file = \"data_example.set\""
   ]
  },
  {
   "cell_type": "code",
   "execution_count": 5,
   "metadata": {
    "scrolled": true
   },
   "outputs": [
    {
     "name": "stdout",
     "output_type": "stream",
     "text": [
      "Reading C:\\Users\\emile\\Documents\\Projet CNN APICE\\Matlab\\eeg_preprocessing-main\\examples\\DATA\\set\\data_example.fdt\n"
     ]
    }
   ],
   "source": [
    "raw = io.read_raw_eeglab(data_loc+data_file)"
   ]
  },
  {
   "cell_type": "code",
   "execution_count": null,
   "metadata": {
    "scrolled": true
   },
   "outputs": [
    {
     "name": "stdout",
     "output_type": "stream",
     "text": [
      "\"pop_runica\" Octave function []\n",
      "What would you like to do?\n",
      "\n",
      "\t1. Run it for all the files found and overwrite previous output files (1)\n",
      "\n",
      "\t2. Run it only for the new files (2)\n",
      "\n",
      "\t3. Ask in each case if a previous analysis is found (3)\n",
      "\n",
      "Chose an option 1, 2 or 3: \n"
     ]
    }
   ],
   "source": [
    "pathIn = \"C:/Users/emile/Documents/Projet CNN APICE/Matlab/eeg_preprocessing-main/examples/DATA/\"\n",
    "os.path.isdir(pathIn) \n",
    "pathOut = \"C:/Users/emile/Documents/Projet CNN APICE/Matlab/eeg_preprocessing-main/examples/DATA/test/\"\n",
    "eeg = eega_RunAll(\"set/data_example.set\",pathIn,pathOut,[\"prename\",\"test_\",\"octave.pop_runica\",[]])"
   ]
  },
  {
   "cell_type": "code",
   "execution_count": null,
   "metadata": {},
   "outputs": [],
   "source": [
    "\n",
    "Path0 = 'C:/Users/emile/Documents/Projet CNN APICE/Matlab/eeg_preprocessing-main/examples';\n",
    "Path2DataSet = os.path.join(Path0,'DATA','set');\n",
    "filesList = glob.glob(Path2DataSet+\"**/*.set\", recursive=True)\n",
    "\n",
    "for subject in filesList:\n",
    "    subjectName = subject.replace(Path2DataSet+\"\\\\\",\"\").replace(\".set\",\"\")\n",
    "\n",
    "    print(subjectName)\n",
    "    # -------------------------------------------------------------------------\n",
    "    #Read data\n",
    "    EEG = mne.io.read_raw_eeglab(subject,preload=True)\n"
   ]
  },
  {
   "cell_type": "code",
   "execution_count": null,
   "metadata": {
    "scrolled": true
   },
   "outputs": [],
   "source": [
    "getattr(octave,'pop_eegfiltnew')(EEG,[0,5])"
   ]
  }
 ],
 "metadata": {
  "kernelspec": {
   "display_name": "Python 3",
   "language": "python",
   "name": "python3"
  },
  "language_info": {
   "codemirror_mode": {
    "name": "ipython",
    "version": 3
   },
   "file_extension": ".py",
   "mimetype": "text/x-python",
   "name": "python",
   "nbconvert_exporter": "python",
   "pygments_lexer": "ipython3",
   "version": "3.7.6"
  }
 },
 "nbformat": 4,
 "nbformat_minor": 4
}
