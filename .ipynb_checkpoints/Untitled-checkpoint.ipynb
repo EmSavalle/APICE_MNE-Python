{
 "cells": [
  {
   "cell_type": "code",
   "execution_count": 5,
   "metadata": {},
   "outputs": [],
   "source": [
    "from mne import io"
   ]
  },
  {
   "cell_type": "code",
   "execution_count": 13,
   "metadata": {},
   "outputs": [
    {
     "name": "stdout",
     "output_type": "stream",
     "text": [
      "Reading D:\\Dev\\ProjetCNNAPICE\\Matlab\\eeg_preprocessing-main\\examples\\DATA\\set\\data_example.fdt\n"
     ]
    },
    {
     "ename": "TypeError",
     "evalue": "expected dtype object, got 'numpy.dtype[float64]'",
     "output_type": "error",
     "traceback": [
      "\u001b[1;31m---------------------------------------------------------------------------\u001b[0m",
      "\u001b[1;31mTypeError\u001b[0m                                 Traceback (most recent call last)",
      "\u001b[1;32m<ipython-input-13-2b56dc120a9a>\u001b[0m in \u001b[0;36m<module>\u001b[1;34m\u001b[0m\n\u001b[1;32m----> 1\u001b[1;33m \u001b[0mio\u001b[0m\u001b[1;33m.\u001b[0m\u001b[0mread_raw_eeglab\u001b[0m\u001b[1;33m(\u001b[0m\u001b[1;34m\"D:/Dev/ProjetCNNAPICE/Matlab/eeg_preprocessing-main/examples/DATA/set/data_example.set\"\u001b[0m\u001b[1;33m,\u001b[0m\u001b[0mpreload\u001b[0m\u001b[1;33m=\u001b[0m\u001b[1;32mFalse\u001b[0m\u001b[1;33m)\u001b[0m\u001b[1;33m\u001b[0m\u001b[1;33m\u001b[0m\u001b[0m\n\u001b[0m",
      "\u001b[1;32m~\\AppData\\Roaming\\Python\\Python37\\site-packages\\mne\\io\\eeglab\\eeglab.py\u001b[0m in \u001b[0;36mread_raw_eeglab\u001b[1;34m(input_fname, eog, preload, uint16_codec, verbose)\u001b[0m\n",
      "\u001b[1;32m<decorator-gen-241>\u001b[0m in \u001b[0;36m__init__\u001b[1;34m(self, input_fname, eog, preload, uint16_codec, verbose)\u001b[0m\n",
      "\u001b[1;32m~\\AppData\\Roaming\\Python\\Python37\\site-packages\\mne\\io\\eeglab\\eeglab.py\u001b[0m in \u001b[0;36m__init__\u001b[1;34m(self, input_fname, eog, preload, uint16_codec, verbose)\u001b[0m\n",
      "\u001b[1;32m<decorator-gen-183>\u001b[0m in \u001b[0;36mset_annotations\u001b[1;34m(self, annotations, emit_warning, on_missing, verbose)\u001b[0m\n",
      "\u001b[1;32m~\\AppData\\Roaming\\Python\\Python37\\site-packages\\mne\\io\\base.py\u001b[0m in \u001b[0;36mset_annotations\u001b[1;34m(self, annotations, emit_warning, on_missing, verbose)\u001b[0m\n",
      "\u001b[1;32m~\\AppData\\Roaming\\Python\\Python37\\site-packages\\mne\\io\\base.py\u001b[0m in \u001b[0;36mtimes\u001b[1;34m(self)\u001b[0m\n",
      "\u001b[1;31mTypeError\u001b[0m: expected dtype object, got 'numpy.dtype[float64]'"
     ]
    }
   ],
   "source": [
    "io.read_raw_eeglab(\"D:/Dev/ProjetCNNAPICE/Matlab/eeg_preprocessing_main/examples/DATA/set/data_example.set\",preload=False)"
   ]
  },
  {
   "cell_type": "code",
   "execution_count": 12,
   "metadata": {},
   "outputs": [
    {
     "ename": "IndexError",
     "evalue": "list index out of range",
     "output_type": "error",
     "traceback": [
      "\u001b[1;31m---------------------------------------------------------------------------\u001b[0m",
      "\u001b[1;31mIndexError\u001b[0m                                Traceback (most recent call last)",
      "\u001b[1;32m<ipython-input-12-b4ed296f4cf0>\u001b[0m in \u001b[0;36m<module>\u001b[1;34m\u001b[0m\n\u001b[1;32m----> 1\u001b[1;33m \u001b[0mio\u001b[0m\u001b[1;33m.\u001b[0m\u001b[0mread_epochs_eeglab\u001b[0m\u001b[1;33m(\u001b[0m\u001b[1;34m\"D:/Dev/ProjetCNNAPICE/Matlab/eeg_preprocessing-main/examples/DATA/erp/erp_prp_data_example.set\"\u001b[0m\u001b[1;33m)\u001b[0m\u001b[1;33m\u001b[0m\u001b[1;33m\u001b[0m\u001b[0m\n\u001b[0m",
      "\u001b[1;32m~\\AppData\\Roaming\\Python\\Python37\\site-packages\\mne\\io\\eeglab\\eeglab.py\u001b[0m in \u001b[0;36mread_epochs_eeglab\u001b[1;34m(input_fname, events, event_id, eog, verbose, uint16_codec)\u001b[0m\n",
      "\u001b[1;32m<decorator-gen-242>\u001b[0m in \u001b[0;36m__init__\u001b[1;34m(self, input_fname, events, event_id, tmin, baseline, reject, flat, reject_tmin, reject_tmax, eog, verbose, uint16_codec)\u001b[0m\n",
      "\u001b[1;32m~\\AppData\\Roaming\\Python\\Python37\\site-packages\\mne\\io\\eeglab\\eeglab.py\u001b[0m in \u001b[0;36m__init__\u001b[1;34m(self, input_fname, events, event_id, tmin, baseline, reject, flat, reject_tmin, reject_tmax, eog, verbose, uint16_codec)\u001b[0m\n",
      "\u001b[1;31mIndexError\u001b[0m: list index out of range"
     ]
    }
   ],
   "source": [
    "io.read_epochs_eeglab(\"D:/Dev/ProjetCNNAPICE/Matlab/eeg_preprocessing-main/examples/DATA/erp/erp_prp_data_example.set\")"
   ]
  }
 ],
 "metadata": {
  "kernelspec": {
   "display_name": "Python 3",
   "language": "python",
   "name": "python3"
  },
  "language_info": {
   "codemirror_mode": {
    "name": "ipython",
    "version": 3
   },
   "file_extension": ".py",
   "mimetype": "text/x-python",
   "name": "python",
   "nbconvert_exporter": "python",
   "pygments_lexer": "ipython3",
   "version": "3.7.6"
  }
 },
 "nbformat": 4,
 "nbformat_minor": 4
}
