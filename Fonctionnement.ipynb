{
 "cells": [
  {
   "cell_type": "markdown",
   "metadata": {},
   "source": [
    "### 1 Filtering \n",
    "With pop_eegfiltnew\n",
    "0.1Hz high pass\n",
    "Low pass 40 hz with transition band 10Hz\n",
    "\n",
    "### 2 Artifacts detection\n",
    "\n",
    "#### Adaptive threshold\n",
    "Thresh = Q3 + k*(Q3-Q1)\n",
    "Thresh = Q1 - k*(Q3-Q1)\n",
    "Qi : quartiles\n",
    "k : input\n",
    "\n",
    "\n",
    "#### Diff algorithms\n",
    "(Appendix A)\n",
    "Detection non-functional channels\n",
    "One looks power spectrum of diff channels accross frequency bands\n",
    "Low activity correlation with other channels\n",
    "Detection motion artifacts -> when amplitude, temporal variance or running average are too high\n",
    "Detection of jump or discontinuities\n",
    "Some data are reincluded\n",
    "\n",
    "Multiple cycles of rejection to skimm the signal\n",
    "\n",
    "#### Cycles\n",
    "\n",
    "1 : Detection of non woriking channels\n",
    "2 : Rejection of all data >500mV\n",
    "3a and 3b : 2x algorithms for motion artifacts (relative thresholds and non-average referenced\n",
    "4a and 4b : Same as 3 but applied on average referenced data and one relative threshold for all electrodes\n",
    "5a and 5b : Detection of fast transient changes, 1 with threshold per electrodes on non-average reference data and one with average reference data  + threshold for all electrode\n",
    "\n",
    "\n",
    "### Good and bad\n",
    "\n",
    "#### Bad times\n",
    "Appendix E\n",
    "Artifacts that affect more than 30% of electrodes -> bad times\n",
    "-500ms->bad times->+500ms => bad times\n",
    "#### Non functionnal channels \n",
    "\n",
    "More than 30/100 of data in one channel is bad -> bad channel\n",
    "Artifacts lasting >100ms -> bad\n",
    "\n",
    "### Correction\n",
    "Appendix C\n",
    "\n",
    "#### Suppression of jump and discontinuities\n",
    "PCA \n",
    "ICA Appendix D"
   ]
  }
 ],
 "metadata": {
  "kernelspec": {
   "display_name": "Python 3 (ipykernel)",
   "language": "python",
   "name": "python3"
  },
  "language_info": {
   "codemirror_mode": {
    "name": "ipython",
    "version": 3
   },
   "file_extension": ".py",
   "mimetype": "text/x-python",
   "name": "python",
   "nbconvert_exporter": "python",
   "pygments_lexer": "ipython3",
   "version": "3.9.7"
  }
 },
 "nbformat": 4,
 "nbformat_minor": 4
}
